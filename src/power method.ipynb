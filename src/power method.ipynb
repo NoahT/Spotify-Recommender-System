{
 "cells": [
  {
   "cell_type": "code",
   "execution_count": 1,
   "id": "framed-civilization",
   "metadata": {},
   "outputs": [],
   "source": [
    "import numpy as np"
   ]
  },
  {
   "cell_type": "code",
   "execution_count": 95,
   "id": "white-phenomenon",
   "metadata": {},
   "outputs": [],
   "source": [
    "def power_method(matrix, iterations):\n",
    "    \n",
    "    top_eigenvec = []\n",
    "    top_eigenval = []\n",
    "    \n",
    "    #initial nonzero approximation\n",
    "    x = x = np.random.rand(A.shape[0],1)\n",
    "    \n",
    "    for i in range(iterations):\n",
    "        \n",
    "        x = np.dot(A, x)\n",
    "        \n",
    "        eigenvec_norm = np.linalg.norm(x)\n",
    "        eigenvec = x / eigenvec_norm\n",
    "        \n",
    "        eigenval = (np.dot(A,x).T.dot(x)) / np.dot(x.T,x)\n",
    "        \n",
    "        top_eigenvec.append(eigenvec)\n",
    "        top_eigenval.append(eigenval)\n",
    "   \n",
    "    \n",
    "    return top_eigenvec, top_eigenval\n",
    "    "
   ]
  }
 ],
 "metadata": {
  "kernelspec": {
   "display_name": "Python 3",
   "language": "python",
   "name": "python3"
  },
  "language_info": {
   "codemirror_mode": {
    "name": "ipython",
    "version": 3
   },
   "file_extension": ".py",
   "mimetype": "text/x-python",
   "name": "python",
   "nbconvert_exporter": "python",
   "pygments_lexer": "ipython3",
   "version": "3.7.3"
  }
 },
 "nbformat": 4,
 "nbformat_minor": 5
}
